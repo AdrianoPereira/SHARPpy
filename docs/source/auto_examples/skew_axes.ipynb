{
  "cells": [
    {
      "cell_type": "code",
      "execution_count": null,
      "metadata": {
        "collapsed": false
      },
      "outputs": [],
      "source": [
        "%matplotlib inline"
      ]
    },
    {
      "cell_type": "markdown",
      "metadata": {},
      "source": [
        "Make Skew-T Log-P based plots.\n\nContain tools for making Skew-T Log-P plots, including the base plotting class,\n`SkewT`, as well as a class for making a `Hodograph`.\n\n"
      ]
    },
    {
      "cell_type": "code",
      "execution_count": null,
      "metadata": {
        "collapsed": false
      },
      "outputs": [],
      "source": [
        "import matplotlib\nfrom matplotlib.axes import Axes\nimport matplotlib.axis as maxis\nfrom matplotlib.collections import LineCollection\nimport matplotlib.colors as mcolors\nfrom matplotlib.patches import Circle\nfrom matplotlib.projections import register_projection\nimport matplotlib.spines as mspines\nfrom matplotlib.ticker import MultipleLocator, NullFormatter, ScalarFormatter\nimport matplotlib.transforms as transforms\nimport numpy as np\n\n\nclass SkewXTick(maxis.XTick):\n    r\"\"\"Make x-axis ticks for Skew-T plots.\n\n    This class adds to the standard :class:`matplotlib.axis.XTick` dynamic checking\n    for whether a top or bottom tick is actually within the data limits at that part\n    and draw as appropriate. It also performs similar checking for gridlines.\n    \"\"\"\n\n    def update_position(self, loc):\n        \"\"\"Set the location of tick in data coords with scalar *loc*.\"\"\"\n        # This ensures that the new value of the location is set before\n        # any other updates take place.\n        self._loc = loc\n        super(SkewXTick, self).update_position(loc)\n\n    def _has_default_loc(self):\n        return self.get_loc() is None\n\n    def _need_lower(self):\n        return (self._has_default_loc()\n                or transforms.interval_contains(self.axes.lower_xlim, self.get_loc()))\n\n    def _need_upper(self):\n        return (self._has_default_loc()\n                or transforms.interval_contains(self.axes.upper_xlim, self.get_loc()))\n\n    @property\n    def gridOn(self):  # noqa: N802\n        \"\"\"Control whether the gridline is drawn for this tick.\"\"\"\n        return (self._gridOn and (self._has_default_loc()\n                or transforms.interval_contains(self.get_view_interval(), self.get_loc())))\n\n    @gridOn.setter\n    def gridOn(self, value):  # noqa: N802\n        self._gridOn = value\n\n    @property\n    def tick1On(self):  # noqa: N802\n        \"\"\"Control whether the lower tick mark is drawn for this tick.\"\"\"\n        return self._tick1On and self._need_lower()\n\n    @tick1On.setter\n    def tick1On(self, value):  # noqa: N802\n        self._tick1On = value\n\n    @property\n    def label1On(self):  # noqa: N802\n        \"\"\"Control whether the lower tick label is drawn for this tick.\"\"\"\n        return self._label1On and self._need_lower()\n\n    @label1On.setter\n    def label1On(self, value):  # noqa: N802\n        self._label1On = value\n\n    @property\n    def tick2On(self):  # noqa: N802\n        \"\"\"Control whether the upper tick mark is drawn for this tick.\"\"\"\n        return self._tick2On and self._need_upper()\n\n    @tick2On.setter\n    def tick2On(self, value):  # noqa: N802\n        self._tick2On = value\n\n    @property\n    def label2On(self):  # noqa: N802\n        \"\"\"Control whether the upper tick label is drawn for this tick.\"\"\"\n        return self._label2On and self._need_upper()\n\n    @label2On.setter\n    def label2On(self, value):  # noqa: N802\n        self._label2On = value\n\n    def get_view_interval(self):\n        \"\"\"Get the view interval.\"\"\"\n        return self.axes.xaxis.get_view_interval()\n\n\nclass SkewXAxis(maxis.XAxis):\n    r\"\"\"Make an x-axis that works properly for Skew-T plots.\n\n    This class exists to force the use of our custom :class:`SkewXTick` as well\n    as provide a custom value for interview that combines the extents of the\n    upper and lower x-limits from the axes.\n    \"\"\"\n\n    def _get_tick(self, major):\n        return SkewXTick(self.axes, None, '', major=major)\n\n    def get_view_interval(self):\n        \"\"\"Get the view interval.\"\"\"\n        return self.axes.upper_xlim[0], self.axes.lower_xlim[1]\n\n\nclass SkewSpine(mspines.Spine):\n    r\"\"\"Make an x-axis spine that works properly for Skew-T plots.\n\n    This class exists to use the separate x-limits from the axes to properly\n    locate the spine.\n    \"\"\"\n\n    def _adjust_location(self):\n        pts = self._path.vertices\n        if self.spine_type == 'top':\n            pts[:, 0] = self.axes.upper_xlim\n        else:\n            pts[:, 0] = self.axes.lower_xlim\n\n\nclass SkewXAxes(Axes):\n    r\"\"\"Make a set of axes for Skew-T plots.\n\n    This class handles registration of the skew-xaxes as a projection as well as setting up\n    the appropriate transformations. It also makes sure we use our instances for spines\n    and x-axis: :class:`SkewSpine` and :class:`SkewXAxis`. It provides properties to\n    facilitate finding the x-limits for the bottom and top of the plot as well.\n    \"\"\"\n\n    # The projection must specify a name.  This will be used be the\n    # user to select the projection, i.e. ``subplot(111,\n    # projection='skewx')``.\n    name = 'skewx'\n\n    def __init__(self, *args, **kwargs):\n        r\"\"\"Initialize `SkewXAxes`.\n\n        Parameters\n        ----------\n        args : Arbitrary positional arguments\n            Passed to :class:`matplotlib.axes.Axes`\n\n        position: int, optional\n            The rotation of the x-axis against the y-axis, in degrees.\n\n        kwargs : Arbitrary keyword arguments\n            Passed to :class:`matplotlib.axes.Axes`\n\n        \"\"\"\n        # This needs to be popped and set before moving on\n        self.rot = kwargs.pop('rotation', 30)\n        Axes.__init__(self, *args, **kwargs)\n\n    def _init_axis(self):\n        # Taken from Axes and modified to use our modified X-axis\n        self.xaxis = SkewXAxis(self)\n        self.spines['top'].register_axis(self.xaxis)\n        self.spines['bottom'].register_axis(self.xaxis)\n        self.yaxis = maxis.YAxis(self)\n        self.spines['left'].register_axis(self.yaxis)\n        self.spines['right'].register_axis(self.yaxis)\n\n    def _gen_axes_spines(self, locations=None, offset=0.0, units='inches'):\n        # pylint: disable=unused-argument\n        spines = {'top': SkewSpine.linear_spine(self, 'top'),\n                  'bottom': mspines.Spine.linear_spine(self, 'bottom'),\n                  'left': mspines.Spine.linear_spine(self, 'left'),\n                  'right': mspines.Spine.linear_spine(self, 'right')}\n        return spines\n\n    def _set_lim_and_transforms(self):\n        \"\"\"Set limits and transforms.\n\n        This is called once when the plot is created to set up all the\n        transforms for the data, text and grids.\n\n        \"\"\"\n        # Get the standard transform setup from the Axes base class\n        Axes._set_lim_and_transforms(self)\n\n        # Need to put the skew in the middle, after the scale and limits,\n        # but before the transAxes. This way, the skew is done in Axes\n        # coordinates thus performing the transform around the proper origin\n        # We keep the pre-transAxes transform around for other users, like the\n        # spines for finding bounds\n        self.transDataToAxes = (self.transScale\n                                + (self.transLimits\n                                   + transforms.Affine2D().skew_deg(self.rot, 0)))\n\n        # Create the full transform from Data to Pixels\n        self.transData = self.transDataToAxes + self.transAxes\n\n        # Blended transforms like this need to have the skewing applied using\n        # both axes, in axes coords like before.\n        self._xaxis_transform = (\n            transforms.blended_transform_factory(self.transScale + self.transLimits,\n                                                 transforms.IdentityTransform())\n            + transforms.Affine2D().skew_deg(self.rot, 0)) + self.transAxes\n\n    @property\n    def lower_xlim(self):\n        \"\"\"Get the data limits for the x-axis along the bottom of the axes.\"\"\"\n        return self.axes.viewLim.intervalx\n\n    @property\n    def upper_xlim(self):\n        \"\"\"Get the data limits for the x-axis along the top of the axes.\"\"\"\n        return self.transDataToAxes.inverted().transform([[0., 1.], [1., 1.]])[:, 0]\n\n\n# Now register the projection with matplotlib so the user can select\n# it.\nregister_projection(SkewXAxes)"
      ]
    }
  ],
  "metadata": {
    "kernelspec": {
      "display_name": "Python 3",
      "language": "python",
      "name": "python3"
    },
    "language_info": {
      "codemirror_mode": {
        "name": "ipython",
        "version": 3
      },
      "file_extension": ".py",
      "mimetype": "text/x-python",
      "name": "python",
      "nbconvert_exporter": "python",
      "pygments_lexer": "ipython3",
      "version": "3.6.6"
    }
  },
  "nbformat": 4,
  "nbformat_minor": 0
}