{
 "cells": [
  {
   "cell_type": "markdown",
   "metadata": {},
   "source": [
    "# Basic Coding With SHARPpy"
   ]
  },
  {
   "cell_type": "markdown",
   "metadata": {},
   "source": [
    "Written by: Greg Blumberg (OU/CIMMS)"
   ]
  },
  {
   "cell_type": "markdown",
   "metadata": {},
   "source": [
    "#### This IPython Notebook tutorial is meant to teach the user how to directly interact with the SHARPpy libraries using the Python interpreter.  This tutorial will cover reading in files into the the Profile object, plotting the data using Matplotlib, and computing various indices from the data.  It is also a reference to the different functions and variables SHARPpy has available to the user.\n",
    "\n",
    "To work your way through this notebook, you should run each code cell by pressing \"Shift-Enter\" on your keyboard."
   ]
  },
  {
   "cell_type": "markdown",
   "metadata": {},
   "source": [
    "In order to work with SHARPpy, you need to perform 3 steps before you can begin running routines such as CAPE/CIN on the data."
   ]
  },
  {
   "cell_type": "markdown",
   "metadata": {},
   "source": [
    "### Step 1: Read in the data to work with."
   ]
  },
  {
   "cell_type": "markdown",
   "metadata": {},
   "source": [
    "1.) The Pilger, NE tornado proximity sounding from 19 UTC within the tutorial/ directory is an example of the SPC sounding file format that can be read in by the GUI.  Here we'll read it in manually.\n",
    "\n",
    "If you want to read in your own data using this function, write a script to mimic the data format shown in the 14061619.OAX file found in this directory.  Missing values must be -9999."
   ]
  },
  {
   "cell_type": "code",
   "execution_count": 13,
   "metadata": {
    "collapsed": false
   },
   "outputs": [],
   "source": [
    "%matplotlib inline\n",
    "spc_file = open('14061619.OAX', 'r').read()"
   ]
  },
  {
   "cell_type": "markdown",
   "metadata": {},
   "source": [
    "### Step 2: Load in the SHARPTAB module."
   ]
  },
  {
   "cell_type": "markdown",
   "metadata": {},
   "source": [
    "All of the SHARPpy routines (parcel lifting, composite indices, etc.) reside within the SHARPTAB module.\n",
    "\n",
    "SHARPTAB contains 6 modules:\n",
    "params, winds, thermo, utils, interp, fire, constants, watch_type\n",
    "\n",
    "Each module has different functions:\n",
    "\n",
    "    interp - interpolates different variables (temperature, dewpoint, wind, etc.) to a specified pressure\n",
    "    winds - functions used to compute different wind-related variables (shear, helicity, mean winds, storm relative vectors)\n",
    "    thermo - temperature unit conversions, theta-e, theta, wetbulb, lifting functions\n",
    "    utils - wind speed unit conversions, wind speed and direction to u and v conversions, QC\n",
    "    params - computation of different parameters, indices, etc. from the Profile object\n",
    "    fire - fire weather indices\n",
    " \n",
    "Below is the code to load in these modules:"
   ]
  },
  {
   "cell_type": "code",
   "execution_count": 4,
   "metadata": {
    "collapsed": false
   },
   "outputs": [
    {
     "name": "stderr",
     "output_type": "stream",
     "text": [
      "/Users/blumberg/anaconda/lib/python2.7/site-packages/SHARPpy-1.4.0-py2.7.egg/sharppy/sharptab/winds.py:14: UserWarning: Future versions of the routines in the winds module may include options to use height values instead of pressure to specify layers (i.e. SRH, wind shear, etc.)\n",
      "  warnings.warn(\"Future versions of the routines in the winds module may include options to use height values instead of pressure to specify layers (i.e. SRH, wind shear, etc.)\")\n"
     ]
    }
   ],
   "source": [
    "import sharppy\n",
    "import sharppy.sharptab.profile as profile\n",
    "import sharppy.sharptab.interp as interp\n",
    "import sharppy.sharptab.winds as winds\n",
    "import sharppy.sharptab.utils as utils\n",
    "import sharppy.sharptab.params as params\n",
    "import sharppy.sharptab.thermo as thermo"
   ]
  },
  {
   "cell_type": "markdown",
   "metadata": {},
   "source": [
    "### Step 3: Making a Profile object."
   ]
  },
  {
   "cell_type": "markdown",
   "metadata": {},
   "source": [
    "Before running any analysis routines on the data, we have to create a Profile object first.  A Profile object describes the vertical thermodynamic and kinematic profiles and is the key object that all SHARPpy routines need to run.  Any data source can be passed into a Profile object (i.e. radiosonde, RASS, satellite sounding retrievals, etc.) as long as it has these profiles:\n",
    "\n",
    "- temperature (C)\n",
    "- dewpoint (C)\n",
    "- height (meters above mean sea level)\n",
    "- pressure (millibars)\n",
    "- wind speed (kts)\n",
    "- wind direction (degrees)\n",
    "\n",
    "or (optional)\n",
    "- zonal wind component U (kts)\n",
    "- meridional wind component V (kts)\n",
    "\n",
    "For example, after reading in the data in the example above, a Profile object can be created.  Since this file uses the value -9999 to indicate missing values, we need to tell SHARPpy to ignore these values in its calculations by including the missing field to be -9999.  In addition, we tell SHARPpy we want to create a default BasicProfile object.  Telling SHARPpy to create a \"convective\" profile object instead of a \"default\" profile object will generate a Profile object with all of the indices computed in the SHARPpy GUI.  If you are only wanting to compute a few indices, you probably don't want to do that."
   ]
  },
  {
   "cell_type": "code",
   "execution_count": 14,
   "metadata": {
    "collapsed": false
   },
   "outputs": [
    {
     "name": "stderr",
     "output_type": "stream",
     "text": [
      "/Users/blumberg/anaconda/lib/python2.7/site-packages/ipykernel/__main__.py:26: DeprecationWarning: converting an array with ndim > 0 to an index will result in an error in the future\n"
     ]
    }
   ],
   "source": [
    "import numpy as np\n",
    "from StringIO import StringIO\n",
    "\n",
    "def parseSPC(spc_file):\n",
    "    \"\"\"\n",
    "        This function will read a SPC-style formatted observed sounding file,\n",
    "        similar to that of the 14061619.OAX file included in the SHARPpy distribution.\n",
    "        \n",
    "        It will return the pressure, height, temperature, dewpoint, wind direction and wind speed data\n",
    "        from that file.\n",
    "    \"\"\"\n",
    "    ## read in the file\n",
    "    data = np.array([l.strip() for l in spc_file.split('\\n')])\n",
    "\n",
    "    ## necessary index points\n",
    "    title_idx = np.where( data == '%TITLE%')[0][0]\n",
    "    start_idx = np.where( data == '%RAW%' )[0] + 1\n",
    "    finish_idx = np.where( data == '%END%')[0]\n",
    "\n",
    "    ## create the plot title\n",
    "    data_header = data[title_idx + 1].split()\n",
    "    location = data_header[0]\n",
    "    time = data_header[1][:11]\n",
    "\n",
    "    ## put it all together for StringIO\n",
    "    full_data = '\\n'.join(data[start_idx : finish_idx][:])\n",
    "    sound_data = StringIO( full_data )\n",
    "\n",
    "    ## read the data into arrays\n",
    "    p, h, T, Td, wdir, wspd = np.genfromtxt( sound_data, delimiter=',', comments=\"%\", unpack=True )\n",
    "\n",
    "    return p, h, T, Td, wdir, wspd\n",
    "\n",
    "pres, hght, tmpc, dwpc, wdir, wspd = parseSPC(spc_file)\n",
    "\n",
    "prof = profile.create_profile(profile='default', pres=pres, hght=hght, tmpc=tmpc, \\\n",
    "                                    dwpc=dwpc, wspd=wspd, wdir=wdir, missing=-9999, strictQC=True)"
   ]
  },
  {
   "cell_type": "markdown",
   "metadata": {},
   "source": [
    "In SHARPpy, Profile objects have quality control checks built into them to alert the user to bad data and in order to prevent the program from crashing on computational routines.  For example, upon construction of the Profile object, the SHARPpy will check for unrealistic values (i.e. dewpoint or temperature below absolute zero, negative wind speeds) and incorrect ordering of the height and pressure arrays.  Height arrays must be increasing with array index, and pressure arrays must be decreasing with array index.  Repeat values are not allowed.  \n",
    "\n",
    "If you encounter this issue, you can either manually edit the data to remove the offending data values or you can avoid these checks by setting the \"strictQC\" flag to False when constructing an object."
   ]
  },
  {
   "cell_type": "markdown",
   "metadata": {},
   "source": [
    "Because Python is an interpreted language, it can be quite slow for certain processes.  When working with soundings in SHARPpy, we recommend the profiles contain a maximum of 200-500 points.  High resolution radiosonde profiles (i.e. 1 second profiles) contain thousands of points and some of the SHARPpy functions that involve lifting parcels (i.e. parcelx) may take a long time to run.  To filter your data to make it easier for SHARPpy to work with, you can use a sounding filter such as the one found here:\n",
    "\n",
    "https://github.com/tsupinie/SoundingFilter"
   ]
  },
  {
   "cell_type": "markdown",
   "metadata": {},
   "source": [
    "### Let's view the data that's in the Profile object real quick."
   ]
  },
  {
   "cell_type": "markdown",
   "metadata": {},
   "source": [
    "Do do this, we'll make a for loop to loop over all of the data within the Profile object and print the data out for each line.  Missing values will be denoted by \"--\" instead of -9999.  This is a consquence of the data being read in by the Profile object framework."
   ]
  },
  {
   "cell_type": "code",
   "execution_count": 15,
   "metadata": {
    "collapsed": false
   },
   "outputs": [
    {
     "name": "stdout",
     "output_type": "stream",
     "text": [
      "1000.0 34.0 -- -- -- --\n",
      "965.0 350.0 27.8 23.8 150.0 150.0\n",
      "962.0 377.51 27.4 22.8 -- --\n",
      "936.87 610.0 25.51 21.72 145.0 145.0\n",
      "925.0 722.0 24.6 21.2 150.0 150.0\n",
      "904.95 914.0 23.05 20.43 160.0 160.0\n",
      "889.0 1069.78 21.8 19.8 -- --\n",
      "877.0 1188.26 22.2 17.3 -- --\n",
      "873.9 1219.0 22.02 16.98 175.0 175.0\n",
      "853.0 1429.46 20.8 14.8 -- --\n",
      "850.0 1460.0 21.0 14.0 180.0 180.0\n",
      "844.0 1521.47 21.4 11.4 -- --\n",
      "814.51 1829.0 19.63 8.65 195.0 195.0\n",
      "814.0 1834.46 19.6 8.6 -- --\n",
      "805.0 1930.24 18.8 13.8 -- --\n",
      "794.0 2048.59 18.0 13.5 -- --\n",
      "786.13 2134.0 17.57 12.72 200.0 200.0\n",
      "783.0 2168.27 17.4 12.4 -- --\n",
      "761.0 2411.82 16.4 7.4 -- --\n",
      "758.66 2438.0 16.49 5.16 210.0 210.0\n",
      "756.0 2467.98 16.6 2.6 -- --\n",
      "743.0 2615.49 16.0 -1.0 -- --\n",
      "737.0 2684.28 15.4 -0.6 -- --\n",
      "731.9 2743.0 14.64 2.45 210.0 210.0\n",
      "729.0 2776.65 14.2 4.2 -- --\n",
      "710.0 2999.06 12.2 4.2 -- --\n",
      "705.87 3048.0 11.99 3.99 210.0 210.0\n",
      "702.0 3094.1 11.8 3.8 -- --\n",
      "700.0 3118.0 11.6 2.6 215.0 215.0\n",
      "697.0 3153.92 11.6 0.6 -- --\n",
      "682.0 3335.5 10.4 2.4 -- --\n",
      "675.0 3421.38 10.0 1.0 -- --\n",
      "655.96 3658.0 7.97 -2.38 225.0 225.0\n",
      "647.0 3771.67 7.0 -4.0 -- --\n",
      "635.0 3925.19 6.0 -12.0 -- --\n",
      "632.14 3962.0 5.72 -12.99 230.0 230.0\n",
      "623.0 4080.9 4.8 -16.2 -- --\n",
      "608.51 4267.0 3.1 -17.37 230.0 230.0\n",
      "563.33 4877.0 -2.48 -21.19 230.0 230.0\n",
      "500.0 5820.0 -11.1 -27.1 245.0 245.0\n",
      "496.0 5881.65 -11.5 -26.5 -- --\n",
      "482.28 6096.0 -13.14 -28.14 245.0 245.0\n",
      "481.0 6116.34 -13.3 -28.3 -- --\n",
      "472.0 6259.91 -14.3 -33.3 -- --\n",
      "464.0 6389.52 -14.5 -39.5 -- --\n",
      "460.0 6455.17 -14.3 -30.3 -- --\n",
      "457.0 6504.79 -14.5 -29.5 -- --\n",
      "443.0 6739.75 -16.5 -27.5 -- --\n",
      "431.0 6945.77 -17.9 -28.9 -- --\n",
      "423.0 7085.7 -18.7 -37.7 -- --\n",
      "410.0 7317.63 -20.5 -33.5 -- --\n",
      "400.0 7500.0 -21.7 -41.7 250.0 250.0\n",
      "396.0 7573.79 -22.1 -45.1 -- --\n",
      "393.5 7620.0 -22.52 -44.19 250.0 250.0\n",
      "383.0 7817.58 -24.3 -40.3 -- --\n",
      "365.0 8165.5 -27.3 -52.3 -- --\n",
      "353.0 8404.47 -29.7 -41.7 -- --\n",
      "346.0 8546.6 -30.9 -41.9 -- --\n",
      "327.0 8943.91 -33.9 -52.9 -- --\n",
      "317.73 9144.0 -35.59 -53.82 255.0 255.0\n",
      "315.0 9204.06 -36.1 -54.1 -- --\n",
      "300.0 9540.0 -38.9 -49.9 250.0 250.0\n",
      "290.0 9772.78 -40.9 -50.9 -- --\n",
      "278.01 10058.0 -43.14 -54.39 255.0 255.0\n",
      "262.0 10458.87 -46.3 -59.3 -- --\n",
      "250.0 10770.0 -49.1 -62.1 260.0 260.0\n",
      "238.0 11090.28 -51.9 -63.9 -- --\n",
      "231.1 11278.0 -52.95 -65.12 260.0 260.0\n",
      "210.06 11887.0 -56.35 -69.07 265.0 265.0\n",
      "200.0 12200.0 -58.1 -71.1 265.0 265.0\n",
      "190.76 12497.0 -59.78 -73.55 280.0 280.0\n",
      "188.0 12588.32 -60.3 -74.3 -- --\n",
      "175.0 13035.7 -60.3 -74.3 -- --\n",
      "173.03 13106.0 -60.66 -74.88 265.0 265.0\n",
      "164.72 13411.0 -62.2 -77.38 255.0 255.0\n",
      "158.0 13668.93 -63.5 -79.5 245.0 245.0\n",
      "157.0 13707.98 -63.5 -79.5 -- --\n",
      "154.0 13827.08 -61.9 -77.9 -- --\n",
      "150.0 13990.0 -62.3 -77.3 250.0 250.0\n",
      "149.25 14021.0 -62.25 -77.25 250.0 250.0\n",
      "147.0 14114.55 -62.1 -77.1 -- --\n",
      "142.11 14326.0 -56.43 -73.39 270.0 270.0\n",
      "142.0 14330.93 -56.3 -73.3 -- --\n",
      "141.0 14375.74 -56.1 -74.1 -- --\n",
      "137.0 14557.96 -56.9 -73.9 -- --\n",
      "132.0 14791.84 -58.9 -75.9 -- --\n",
      "129.02 14935.0 -58.4 -77.07 260.0 260.0\n",
      "125.0 15133.97 -57.7 -78.7 -- --\n",
      "122.9 15240.0 -58.7 -79.7 225.0 225.0\n",
      "118.0 15493.97 -61.1 -82.1 -- --\n",
      "117.03 15545.0 -61.23 -81.59 215.0 215.0\n",
      "115.0 15653.42 -61.5 -80.5 -- --\n",
      "110.0 15928.24 -61.7 -80.7 -- --\n",
      "109.0 15984.92 -59.9 -78.9 -- --\n",
      "108.0 16042.38 -59.7 -79.7 -- --\n",
      "100.0 16520.0 -61.9 -81.9 240.0 240.0\n",
      "92.8 16982.3 -62.7 -84.7 -- --\n",
      "87.2 17369.21 -59.9 -83.9 -- --\n",
      "87.13 17374.0 -59.92 -83.92 175.0 175.0\n",
      "83.2 17662.07 -61.3 -85.3 -- --\n",
      "82.99 17678.0 -61.03 -85.21 220.0 220.0\n",
      "80.9 17837.57 -58.3 -84.3 -- --\n",
      "75.32 18288.0 -58.43 -85.08 240.0 240.0\n",
      "72.5 18528.36 -58.5 -85.5 -- --\n",
      "71.76 18593.0 -58.15 -85.73 220.0 220.0\n",
      "70.0 18750.0 -57.3 -86.3 205.0 205.0\n",
      "66.2 19102.5 -56.5 -86.5 -- --\n",
      "62.08 19507.0 -57.97 -88.58 0.0 0.0\n",
      "59.6 19763.34 -58.9 -89.9 -- --\n",
      "51.16 20726.0 -56.29 -88.16 140.0 140.0\n",
      "50.0 20870.0 -55.9 -87.9 100.0 100.0\n",
      "47.3 21223.2 -55.3 -87.3 -- --\n",
      "46.47 21336.0 -55.71 -87.71 130.0 130.0\n",
      "45.3 21497.82 -56.3 -88.3 -- --\n",
      "44.29 21641.0 -56.1 -88.21 130.0 130.0\n",
      "42.22 21946.0 -55.67 -88.02 140.0 140.0\n",
      "40.25 22250.0 -55.24 -87.83 115.0 115.0\n",
      "38.37 22555.0 -54.8 -87.63 100.0 100.0\n",
      "37.1 22769.5 -54.5 -87.5 -- --\n",
      "34.9 23165.0 -52.26 -85.69 115.0 115.0\n",
      "33.29 23470.0 -50.53 -84.29 105.0 105.0\n",
      "32.2 23686.07 -49.3 -83.3 -- --\n",
      "30.0 24150.0 -48.7 -82.7 125.0 125.0\n",
      "29.3 24305.84 -48.1 -82.1 -- --\n",
      "28.95 24384.0 -48.34 -82.34 135.0 135.0\n",
      "27.9 24628.73 -49.1 -83.1 -- --\n",
      "26.7 24918.79 -47.9 -82.9 -- --\n",
      "26.4 24994.0 -47.91 -82.86 80.0 80.0\n",
      "21.95 26213.0 -48.06 -82.26 105.0 105.0\n",
      "20.9 26538.29 -48.1 -82.1 -- --\n",
      "20.02 26822.0 -46.93 -81.91 115.0 115.0\n",
      "20.0 26830.0 -46.9 -81.9 115.0 115.0\n",
      "19.2 27100.93 -45.7 -80.7 -- --\n",
      "19.12 27127.0 -45.73 -80.73 100.0 100.0\n",
      "18.27 27432.0 -46.02 -81.02 105.0 105.0\n",
      "17.5 27717.04 -46.3 -81.3 -- --\n",
      "17.45 27737.0 -46.23 -81.24 115.0 115.0\n",
      "16.67 28042.0 -45.08 -80.37 95.0 95.0\n",
      "14.8 28839.52 -42.1 -78.1 -- --\n",
      "13.91 29261.0 -41.98 -77.98 105.0 105.0\n",
      "12.71 29870.0 -41.8 -77.8 100.0 100.0\n",
      "12.1 30202.29 -41.7 -77.7 -- --\n",
      "11.62 30480.0 -39.91 -76.69 80.0 80.0\n",
      "11.11 30785.0 -37.95 -75.58 70.0 70.0\n",
      "10.9 30916.58 -37.1 -75.1 -- --\n",
      "10.0 31510.0 -38.5 -75.5 80.0 80.0\n",
      "9.0 32234.97 -37.7 -75.7 -- --\n",
      "8.4 32713.14 -35.1 -73.1 -- --\n",
      "8.1 32968.3 -31.9 -71.9 -- --\n",
      "7.81 33223.0 -31.9 -71.9 90.0 90.0\n",
      "7.8 33234.86 -31.9 -71.9 -- --\n"
     ]
    }
   ],
   "source": [
    "for i in range(len(prof.hght)):\n",
    "    print prof.pres[i], prof.hght[i], prof.tmpc[i], prof.dwpc[i], prof.wdir[i], prof.wdir[i]"
   ]
  },
  {
   "cell_type": "markdown",
   "metadata": {},
   "source": [
    "## Working with the data:"
   ]
  },
  {
   "cell_type": "markdown",
   "metadata": {},
   "source": [
    "Once you have a Profile object, you can begin running analysis routines and plotting the data.  The following sections show different examples of how to do this."
   ]
  },
  {
   "cell_type": "markdown",
   "metadata": {},
   "source": [
    "### Plotting the data:"
   ]
  },
  {
   "cell_type": "code",
   "execution_count": 16,
   "metadata": {
    "collapsed": false
   },
   "outputs": [
    {
     "data": {
      "image/png": "[encoded data removed]",
      "text/plain": [
       "<matplotlib.figure.Figure at 0x107eed610>"
      ]
     },
     "metadata": {},
     "output_type": "display_data"
    }
   ],
   "source": [
    "import matplotlib.pyplot as plt\n",
    "plt.plot(prof.tmpc, prof.hght, 'r-')\n",
    "plt.plot(prof.dwpc, prof.hght, 'g-')\n",
    "#plt.barbs(40*np.ones(len(prof.hght)), prof.hght, prof.u, prof.v)\n",
    "plt.xlabel(\"Temperature [C]\")\n",
    "plt.ylabel(\"Height [m above MSL]\")\n",
    "plt.grid()\n",
    "plt.show()"
   ]
  },
  {
   "cell_type": "markdown",
   "metadata": {},
   "source": [
    "SHARPpy Profile objects keep track of the height grid the profile lies on.  Within the profile object, the height grid is assumed to be in meters above mean sea level.\n",
    "\n",
    "In the example data provided, the profile can be converted to and from AGL from MSL:"
   ]
  },
  {
   "cell_type": "code",
   "execution_count": 17,
   "metadata": {
    "collapsed": false
   },
   "outputs": [
    {
     "name": "stdout",
     "output_type": "stream",
     "text": [
      "SURFACE HEIGHT (m MSL): 350.0\n",
      "SURFACE HEIGHT (m AGL): 0.0\n",
      "SURFACE HEIGHT (m MSL): 350.0\n"
     ]
    }
   ],
   "source": [
    "msl_hght = prof.hght[prof.sfc] # Grab the surface height value\n",
    "print \"SURFACE HEIGHT (m MSL):\",msl_hght\n",
    "agl_hght = interp.to_agl(prof, msl_hght) # Converts to AGL\n",
    "print \"SURFACE HEIGHT (m AGL):\", agl_hght\n",
    "msl_hght = interp.to_msl(prof, agl_hght) # Converts to MSL\n",
    "print \"SURFACE HEIGHT (m MSL):\",msl_hght"
   ]
  },
  {
   "cell_type": "markdown",
   "metadata": {},
   "source": [
    "### Showing derived profiles:"
   ]
  },
  {
   "cell_type": "markdown",
   "metadata": {},
   "source": [
    "By default, Profile objects also create derived profiles such as Theta-E and Wet-Bulb when they are constructed. These profiles are accessible to the user too."
   ]
  },
  {
   "cell_type": "code",
   "execution_count": 9,
   "metadata": {
    "collapsed": false
   },
   "outputs": [
    {
     "data": {
      "image/png": "[encoded data removed]",
      "text/plain": [
       "<matplotlib.figure.Figure at 0x1062344d0>"
      ]
     },
     "metadata": {},
     "output_type": "display_data"
    }
   ],
   "source": [
    "plt.plot(thermo.ktoc(prof.thetae), prof.hght, 'r-', label='Theta-E')\n",
    "plt.plot(prof.wetbulb, prof.hght, 'c-', label='Wetbulb')\n",
    "plt.xlabel(\"Temperature [C]\")\n",
    "plt.ylabel(\"Height [m above MSL]\")\n",
    "plt.legend()\n",
    "plt.grid()\n",
    "plt.show()"
   ]
  },
  {
   "cell_type": "markdown",
   "metadata": {},
   "source": [
    "### Lifting Parcels:"
   ]
  },
  {
   "cell_type": "markdown",
   "metadata": {},
   "source": [
    "In SHARPpy, parcels are lifted via the params.parcelx() routine.  The parcelx() routine takes in the arguments of a Profile object and a flag to indicate what type of parcel you would like to be lifted.  Additional arguments can allow for custom/user defined parcels to be passed to the parcelx() routine, however most users will likely be using only the Most-Unstable, Surface, 100 mb Mean Layer, and Forecast parcels.\n",
    "\n",
    "The parcelx() routine by default utilizes the virtual temperature correction to compute variables such as CAPE and CIN.  If the dewpoint profile contains missing data, parcelx() will disregard using the virtual temperature correction."
   ]
  },
  {
   "cell_type": "code",
   "execution_count": 10,
   "metadata": {
    "collapsed": false
   },
   "outputs": [
    {
     "name": "stderr",
     "output_type": "stream",
     "text": [
      "/Users/keltonhalbert/anaconda/lib/python2.7/site-packages/numpy/ma/core.py:4085: UserWarning: Warning: converting a masked element to nan.\n",
      "  warnings.warn(\"Warning: converting a masked element to nan.\")\n"
     ]
    }
   ],
   "source": [
    "sfcpcl = params.parcelx( prof, flag=1 ) # Surface Parcel\n",
    "fcstpcl = params.parcelx( prof, flag=2 ) # Forecast Parcel\n",
    "mupcl = params.parcelx( prof, flag=3 ) # Most-Unstable Parcel\n",
    "mlpcl = params.parcelx( prof, flag=4 ) # 100 mb Mean Layer Parcel"
   ]
  },
  {
   "cell_type": "markdown",
   "metadata": {},
   "source": [
    "Once your parcel attributes are computed by params.parcelx(), you can extract information about the parcel such as CAPE, CIN, LFC height, LCL height, EL height, etc."
   ]
  },
  {
   "cell_type": "code",
   "execution_count": 11,
   "metadata": {
    "collapsed": false
   },
   "outputs": [
    {
     "name": "stdout",
     "output_type": "stream",
     "text": [
      "Most-Unstable CAPE: 5769.22545311\n",
      "Most-Unstable CIN: -0.644692447001\n",
      "Most-Unstable LCL: 512.718558828\n",
      "Most-Unstable LFC: 612.53643485\n",
      "Most-Unstable EL: 13882.5821154\n",
      "Most-Unstable LI: -13.8145334959\n"
     ]
    }
   ],
   "source": [
    "print \"Most-Unstable CAPE:\", mupcl.bplus # J/kg\n",
    "print \"Most-Unstable CIN:\", mupcl.bminus # J/kg\n",
    "print \"Most-Unstable LCL:\", mupcl.lclhght # meters AGL\n",
    "print \"Most-Unstable LFC:\", mupcl.lfchght # meters AGL\n",
    "print \"Most-Unstable EL:\", mupcl.elhght # meters AGL\n",
    "print \"Most-Unstable LI:\", mupcl.li5 # C"
   ]
  },
  {
   "cell_type": "markdown",
   "metadata": {},
   "source": [
    "### Other Parcel Object Attributes:"
   ]
  },
  {
   "cell_type": "markdown",
   "metadata": {},
   "source": [
    "The six indices listed above are not the only ones calculated by parcelx().  Other indices can be calculated and accessed too:\n",
    "\n",
    "Here is a list of the attributes and their units contained in each parcel object (pcl):"
   ]
  },
  {
   "cell_type": "markdown",
   "metadata": {},
   "source": [
    "    pcl.pres - Parcel beginning pressure (mb)\n",
    "    pcl.tmpc - Parcel beginning temperature (C)\n",
    "    pcl.dwpc - Parcel beginning dewpoint (C)\n",
    "    pcl.ptrace - Parcel trace pressure (mb)\n",
    "    pcl.ttrace - Parcel trace temperature (C)\n",
    "    pcl.blayer - Pressure of the bottom of the layer the parcel is lifted (mb)\n",
    "    pcl.tlayer - Pressure of the top of the layer the parcel is lifted (mb)\n",
    "    pcl.lclpres - Parcel LCL (lifted condensation level) pressure (mb)\n",
    "    pcl.lclhght - Parcel LCL height (m AGL)\n",
    "    pcl.lfcpres - Parcel LFC (level of free convection) pressure (mb)\n",
    "    pcl.lfchght - Parcel LFC height (m AGL)\n",
    "    pcl.elpres - Parcel EL (equilibrium level) pressure (mb)\n",
    "    pcl.elhght - Parcel EL height (m AGL)\n",
    "    pcl.mplpres - Maximum Parcel Level (mb)\n",
    "    pcl.mplhght - Maximum Parcel Level (m AGL)\n",
    "    pcl.bplus - Parcel CAPE (J/kg)\n",
    "    pcl.bminus - Parcel CIN (J/kg)\n",
    "    pcl.bfzl - Parcel CAPE up to freezing level (J/kg)\n",
    "    pcl.b3km - Parcel CAPE up to 3 km (J/kg)\n",
    "    pcl.b6km - Parcel CAPE up to 6 km (J/kg)\n",
    "    pcl.p0c - Pressure value at 0 C  (mb)\n",
    "    pcl.pm10c - Pressure value at -10 C (mb)\n",
    "    pcl.pm20c - Pressure value at -20 C (mb)\n",
    "    pcl.pm30c - Pressure value at -30 C (mb)\n",
    "    pcl.hght0c - Height value at 0 C (m AGL)\n",
    "    pcl.hghtm10c - Height value at -10 C (m AGL)\n",
    "    pcl.hghtm20c - Height value at -20 C (m AGL)\n",
    "    pcl.hghtm30c - Height value at -30 C (m AGL)\n",
    "    pcl.wm10c - Wet bulb velocity at -10 C \n",
    "    pcl.wm20c - Wet bulb velocity at -20 C\n",
    "    pcl.wm30c - Wet bulb at -30 C\n",
    "    pcl.li5 = - Lifted Index at 500 mb (C)\n",
    "    pcl.li3 = - Lifted Index at 300 mb (C)\n",
    "    pcl.brnshear - Bulk Richardson Number Shear\n",
    "    pcl.brnu - Bulk Richardson Number U (kts)\n",
    "    pcl.brnv - Bulk Richardson Number V (kts)\n",
    "    pcl.brn - Bulk Richardson Number (unitless)\n",
    "    pcl.limax - Maximum Lifted Index (C)\n",
    "    pcl.limaxpres - Pressure at Maximum Lifted Index (mb)\n",
    "    pcl.cap - Cap Strength (C)\n",
    "    pcl.cappres - Cap strength pressure (mb)\n",
    "    pcl.bmin - Buoyancy minimum in profile (C)\n",
    "    pcl.bminpres - Buoyancy minimum pressure (mb)"
   ]
  },
  {
   "cell_type": "markdown",
   "metadata": {},
   "source": [
    "### Adding a Parcel Trace and plotting Moist and Dry Adiabats:"
   ]
  },
  {
   "cell_type": "markdown",
   "metadata": {},
   "source": [
    "Now, let's try to plot the data on a Skew-T.  You may want to do this if you're looking to create a plot for use in a publication.\n",
    "\n",
    "First, we need to tell Matplotlib (the Python plotting package) that we'd like a Skew-T style plot.  The code in the following cell allow us to do this.  This code was lifted from: http://matplotlib.org/examples/api/skewt.html"
   ]
  },
  {
   "cell_type": "code",
   "execution_count": null,
   "metadata": {
    "collapsed": true
   },
   "outputs": [],
   "source": [
    "# This serves as an intensive exercise of matplotlib's transforms\n",
    "# and custom projection API. This example produces a so-called\n",
    "# SkewT-logP diagram, which is a common plot in meteorology for\n",
    "# displaying vertical profiles of temperature. As far as matplotlib is\n",
    "# concerned, the complexity comes from having X and Y axes that are\n",
    "# not orthogonal. This is handled by including a skew component to the\n",
    "# basic Axes transforms. Additional complexity comes in handling the\n",
    "# fact that the upper and lower X-axes have different data ranges, which\n",
    "# necessitates a bunch of custom classes for ticks,spines, and the axis\n",
    "# to handle this.\n",
    "\n",
    "from matplotlib.axes import Axes\n",
    "import matplotlib.transforms as transforms\n",
    "import matplotlib.axis as maxis\n",
    "import matplotlib.spines as mspines\n",
    "import matplotlib.path as mpath\n",
    "from matplotlib.projections import register_projection\n",
    "\n",
    "# The sole purpose of this class is to look at the upper, lower, or total\n",
    "# interval as appropriate and see what parts of the tick to draw, if any.\n",
    "class SkewXTick(maxis.XTick):\n",
    "    def draw(self, renderer):\n",
    "        if not self.get_visible(): return\n",
    "        renderer.open_group(self.__name__)\n",
    "\n",
    "        lower_interval = self.axes.xaxis.lower_interval\n",
    "        upper_interval = self.axes.xaxis.upper_interval\n",
    "\n",
    "        if self.gridOn and transforms.interval_contains(\n",
    "                self.axes.xaxis.get_view_interval(), self.get_loc()):\n",
    "            self.gridline.draw(renderer)\n",
    "\n",
    "        if transforms.interval_contains(lower_interval, self.get_loc()):\n",
    "            if self.tick1On:\n",
    "                self.tick1line.draw(renderer)\n",
    "            if self.label1On:\n",
    "                self.label1.draw(renderer)\n",
    "\n",
    "        if transforms.interval_contains(upper_interval, self.get_loc()):\n",
    "            if self.tick2On:\n",
    "                self.tick2line.draw(renderer)\n",
    "            if self.label2On:\n",
    "                self.label2.draw(renderer)\n",
    "\n",
    "        renderer.close_group(self.__name__)\n",
    "\n",
    "\n",
    "# This class exists to provide two separate sets of intervals to the tick,\n",
    "# as well as create instances of the custom tick\n",
    "class SkewXAxis(maxis.XAxis):\n",
    "    def __init__(self, *args, **kwargs):\n",
    "        maxis.XAxis.__init__(self, *args, **kwargs)\n",
    "        self.upper_interval = 0.0, 1.0\n",
    "\n",
    "    def _get_tick(self, major):\n",
    "        return SkewXTick(self.axes, 0, '', major=major)\n",
    "\n",
    "    @property\n",
    "    def lower_interval(self):\n",
    "        return self.axes.viewLim.intervalx\n",
    "\n",
    "    def get_view_interval(self):\n",
    "        return self.upper_interval[0], self.axes.viewLim.intervalx[1]\n",
    "\n",
    "\n",
    "# This class exists to calculate the separate data range of the\n",
    "# upper X-axis and draw the spine there. It also provides this range\n",
    "# to the X-axis artist for ticking and gridlines\n",
    "class SkewSpine(mspines.Spine):\n",
    "    def _adjust_location(self):\n",
    "        trans = self.axes.transDataToAxes.inverted()\n",
    "        if self.spine_type == 'top':\n",
    "            yloc = 1.0\n",
    "        else:\n",
    "            yloc = 0.0\n",
    "        left = trans.transform_point((0.0, yloc))[0]\n",
    "        right = trans.transform_point((1.0, yloc))[0]\n",
    "\n",
    "        pts  = self._path.vertices\n",
    "        pts[0, 0] = left\n",
    "        pts[1, 0] = right\n",
    "        self.axis.upper_interval = (left, right)\n",
    "\n",
    "\n",
    "# This class handles registration of the skew-xaxes as a projection as well\n",
    "# as setting up the appropriate transformations. It also overrides standard\n",
    "# spines and axes instances as appropriate.\n",
    "class SkewXAxes(Axes):\n",
    "    # The projection must specify a name.  This will be used be the\n",
    "    # user to select the projection, i.e. ``subplot(111,\n",
    "    # projection='skewx')``.\n",
    "    name = 'skewx'\n",
    "\n",
    "    def _init_axis(self):\n",
    "        #Taken from Axes and modified to use our modified X-axis\n",
    "        self.xaxis = SkewXAxis(self)\n",
    "        self.spines['top'].register_axis(self.xaxis)\n",
    "        self.spines['bottom'].register_axis(self.xaxis)\n",
    "        self.yaxis = maxis.YAxis(self)\n",
    "        self.spines['left'].register_axis(self.yaxis)\n",
    "        self.spines['right'].register_axis(self.yaxis)\n",
    "\n",
    "    def _gen_axes_spines(self):\n",
    "        spines = {'top':SkewSpine.linear_spine(self, 'top'),\n",
    "                  'bottom':mspines.Spine.linear_spine(self, 'bottom'),\n",
    "                  'left':mspines.Spine.linear_spine(self, 'left'),\n",
    "                  'right':mspines.Spine.linear_spine(self, 'right')}\n",
    "        return spines\n",
    "\n",
    "    def _set_lim_and_transforms(self):\n",
    "        \"\"\"\n",
    "        This is called once when the plot is created to set up all the\n",
    "        transforms for the data, text and grids.\n",
    "        \"\"\"\n",
    "        rot = 30\n",
    "\n",
    "        #Get the standard transform setup from the Axes base class\n",
    "        Axes._set_lim_and_transforms(self)\n",
    "\n",
    "        # Need to put the skew in the middle, after the scale and limits,\n",
    "        # but before the transAxes. This way, the skew is done in Axes\n",
    "        # coordinates thus performing the transform around the proper origin\n",
    "        # We keep the pre-transAxes transform around for other users, like the\n",
    "        # spines for finding bounds\n",
    "        self.transDataToAxes = self.transScale + (self.transLimits +\n",
    "                transforms.Affine2D().skew_deg(rot, 0))\n",
    "\n",
    "        # Create the full transform from Data to Pixels\n",
    "        self.transData = self.transDataToAxes + self.transAxes\n",
    "\n",
    "        # Blended transforms like this need to have the skewing applied using\n",
    "        # both axes, in axes coords like before.\n",
    "        self._xaxis_transform = (transforms.blended_transform_factory(\n",
    "                    self.transScale + self.transLimits,\n",
    "                    transforms.IdentityTransform()) +\n",
    "                transforms.Affine2D().skew_deg(rot, 0)) + self.transAxes\n",
    "        \n",
    "# Now register the projection with matplotlib so the user can select it.\n",
    "register_projection(SkewXAxes)"
   ]
  },
  {
   "cell_type": "markdown",
   "metadata": {},
   "source": [
    "Now that Matplotlib knows about the Skew-T style plot, let's plot the OAX sounding data on the Skew-T along with the Most-Unstable parcel trace.  Let's also include dry adiabats and moist adiabats for the user."
   ]
  },
  {
   "cell_type": "code",
   "execution_count": 12,
   "metadata": {
    "collapsed": false
   },
   "outputs": [
    {
     "data": {
      "image/png": "[encoded data removed]",
      "text/plain": [
       "<matplotlib.figure.Figure at 0x106287e10>"
      ]
     },
     "metadata": {},
     "output_type": "display_data"
    }
   ],
   "source": [
    "# Select the Most-Unstable parcel (this can be changed)\n",
    "pcl = mupcl\n",
    "\n",
    "# Create a new figure. The dimensions here give a good aspect ratio\n",
    "fig = plt.figure(figsize=(6.5875, 6.2125))\n",
    "ax = fig.add_subplot(111, projection='skewx')\n",
    "ax.grid(True)\n",
    "\n",
    "# Let's set the y-axis bounds of the plot.\n",
    "pmax = 1000\n",
    "pmin = 10\n",
    "dp = -10\n",
    "presvals = np.arange(int(pmax), int(pmin)+dp, dp)\n",
    "\n",
    "# plot the moist-adiabats at surface temperatures -10 C to 45 C at 5 degree intervals.\n",
    "for t in np.arange(-10,45,5):\n",
    "    tw = []\n",
    "    for p in presvals:\n",
    "        tw.append(thermo.wetlift(1000., t, p))\n",
    "    # Plot the moist-adiabat with a black line that is faded a bit.\n",
    "    ax.semilogy(tw, presvals, 'k-', alpha=.2)\n",
    "\n",
    "# A function to calculate the dry adiabats\n",
    "def thetas(theta, presvals):\n",
    "    return ((theta + thermo.ZEROCNK) / (np.power((1000. / presvals),thermo.ROCP))) - thermo.ZEROCNK\n",
    "\n",
    "# plot the dry adiabats\n",
    "for t in np.arange(-50,110,10):\n",
    "    ax.semilogy(thetas(t, presvals), presvals, 'r-', alpha=.2)\n",
    "\n",
    "# plot the title.\n",
    "plt.title(' OAX 140616/1900 (Observed)', fontsize=14, loc='left')\n",
    "\n",
    "# Plot the data using normal plotting functions, in this case using\n",
    "# log scaling in Y, as dicatated by the typical meteorological plot\n",
    "ax.semilogy(prof.tmpc, prof.pres, 'r', lw=2)\n",
    "ax.semilogy(prof.dwpc, prof.pres, 'g', lw=2)\n",
    "\n",
    "# Plot the parcel trace.\n",
    "ax.semilogy(pcl.ttrace, pcl.ptrace, 'k-.', lw=2)\n",
    "\n",
    "# Denote the 0 to -20 C area on the Skew-T.\n",
    "l = ax.axvline(0, color='b', linestyle='--')\n",
    "l = ax.axvline(-20, color='b', linestyle='--')\n",
    "\n",
    "# Set the log-scale formatting and label the y-axis tick marks.\n",
    "ax.yaxis.set_major_formatter(plt.ScalarFormatter())\n",
    "ax.set_yticks(np.linspace(100,1000,10))\n",
    "ax.set_ylim(1050,100)\n",
    "\n",
    "# Label the x-axis tick marks.\n",
    "ax.xaxis.set_major_locator(plt.MultipleLocator(10))\n",
    "ax.set_xlim(-50,50)\n",
    "\n",
    "# Show the plot to the user.\n",
    "# plt.savefig('skewt.png', bbox_inches='tight') # saves the plot to the disk.\n",
    "plt.show()\n",
    "    "
   ]
  },
  {
   "cell_type": "markdown",
   "metadata": {},
   "source": [
    "### Calculating Kinematic Variables:"
   ]
  },
  {
   "cell_type": "markdown",
   "metadata": {},
   "source": [
    "SHARPpy also allows the user to compute kinematic variables such as shear, mean-winds, and storm relative helicity.  SHARPpy will also compute storm motion vectors based off of the work by Stephen Corfidi and Matthew Bunkers.  Below is some example code to compute the following:\n",
    "\n",
    "1.) 0-3 km Pressure-Weighted Mean Wind\n",
    "\n",
    "2.) 0-6 km Shear (kts)\n",
    "\n",
    "3.) Bunker's Storm Motion (right-mover) (Bunkers et al. 2014 version)\n",
    "\n",
    "4.) Bunker's Storm Motion (left-mover) (Bunkers et al. 2014 version)\n",
    "\n",
    "5.) 0-3 Storm Relative Helicity\n"
   ]
  },
  {
   "cell_type": "code",
   "execution_count": 17,
   "metadata": {
    "collapsed": false
   },
   "outputs": [
    {
     "name": "stdout",
     "output_type": "stream",
     "text": [
      "0-3 km Pressure-Weighted Mean Wind (kt): 41.1397595603\n",
      "0-6 km Shear (kt): 55.9608928026\n",
      "Bunker's Storm Motion (right-mover) [deg,kts]: (masked_array(data = 225.652934838,\n",
      "             mask = False,\n",
      "       fill_value = -9999.0)\n",
      ", 27.240749559186799)\n",
      "Bunker's Storm Motion (left-mover) [deg,kts]: (masked_array(data = 204.774711769,\n",
      "             mask = False,\n",
      "       fill_value = -9999.0)\n",
      ", 52.946150880598658)\n",
      "0-3 km Storm Relative Helicity [m2/s2]: 584.016767705\n"
     ]
    }
   ],
   "source": [
    "# Find the pressure values that correspond to the surface, 1 km, 3 km and 6 km levels.\n",
    "sfc = prof.pres[prof.sfc]\n",
    "p3km = interp.pres(prof, interp.to_msl(prof, 3000.))\n",
    "p6km = interp.pres(prof, interp.to_msl(prof, 6000.))\n",
    "p1km = interp.pres(prof, interp.to_msl(prof, 1000.))\n",
    "\n",
    "# Calculate the 0-3 km pressure-weighted mean wind\n",
    "mean_3km = winds.mean_wind(prof, pbot=sfc, ptop=p3km)\n",
    "print \"0-3 km Pressure-Weighted Mean Wind (kt):\", utils.comp2vec(mean_3km[0], mean_3km[1])[1]\n",
    "\n",
    "# Calculate the 0-1, 0-3, and 0-6 km wind shear\n",
    "sfc_6km_shear = winds.wind_shear(prof, pbot=sfc, ptop=p6km)\n",
    "sfc_3km_shear = winds.wind_shear(prof, pbot=sfc, ptop=p3km)\n",
    "sfc_1km_shear = winds.wind_shear(prof, pbot=sfc, ptop=p1km)\n",
    "print \"0-6 km Shear (kt):\", utils.comp2vec(sfc_6km_shear[0], sfc_6km_shear[1])[1]\n",
    "\n",
    "# Calculate the Bunkers Storm Motion Left and Right mover vectors (these are returned in u,v space\n",
    "# so let's transform them into wind speed and direction space.)\n",
    "srwind = params.bunkers_storm_motion(prof)\n",
    "print \"Bunker's Storm Motion (right-mover) [deg,kts]:\", utils.comp2vec(srwind[0], srwind[1])\n",
    "print \"Bunker's Storm Motion (left-mover) [deg,kts]:\", utils.comp2vec(srwind[2], srwind[3])\n",
    "\n",
    "# Calculate the storm-relative helicity using the right-movers \n",
    "srh3km = winds.helicity(prof, 0, 3000., stu = srwind[0], stv = srwind[1])\n",
    "srh1km = winds.helicity(prof, 0, 1000., stu = srwind[0], stv = srwind[1])\n",
    "print \"0-3 km Storm Relative Helicity [m2/s2]:\",srh3km[0]"
   ]
  },
  {
   "cell_type": "markdown",
   "metadata": {},
   "source": [
    "### Calculating variables based off of the effective inflow layer:"
   ]
  },
  {
   "cell_type": "markdown",
   "metadata": {},
   "source": [
    "The effective inflow layer concept is used to obtain the layer of buoyant parcels that feed a storm's inflow.  Here are a few examples of how to compute variables that require the effective inflow layer in order to calculate them:"
   ]
  },
  {
   "cell_type": "code",
   "execution_count": 18,
   "metadata": {
    "collapsed": false
   },
   "outputs": [
    {
     "name": "stdout",
     "output_type": "stream",
     "text": [
      "Effective Inflow Layer Bottom Height (m AGL): 0.0\n",
      "Effective Inflow Layer Top Height (m AGL): 2117.98\n",
      "Effective Inflow Layer SRH (m2/s2): 527.913472562\n",
      "Effective Bulk Wind Difference: 43.3474336034\n",
      "Supercell Composite Parameter: 60.9130368589\n",
      "Significant Tornado Parameter (w/CIN): 13.8733427141\n",
      "Significant Tornado Parameter (fixed): 13.6576402964\n"
     ]
    }
   ],
   "source": [
    "# Let's calculate the effective inflow layer and print out the heights of the top\n",
    "# and bottom of the layer.  We'll have to convert it from m MSL to m AGL.\n",
    "eff_inflow = params.effective_inflow_layer(prof)\n",
    "ebot_hght = interp.to_agl(prof, interp.hght(prof, eff_inflow[0]))\n",
    "etop_hght = interp.to_agl(prof, interp.hght(prof, eff_inflow[1]))\n",
    "print \"Effective Inflow Layer Bottom Height (m AGL):\", ebot_hght\n",
    "print \"Effective Inflow Layer Top Height (m AGL):\", etop_hght\n",
    "\n",
    "# Like before, we can calculate the storm-relative helicity, but let's do it for the effective inflow layer.\n",
    "effective_srh = winds.helicity(prof, ebot_hght, etop_hght, stu = srwind[0], stv = srwind[1])\n",
    "print \"Effective Inflow Layer SRH (m2/s2):\", effective_srh[0]\n",
    "\n",
    "# We can also calculate the Effective Bulk Wind Difference using the wind shear calculation and the inflow layer.\n",
    "ebwd = winds.wind_shear(prof, pbot=eff_inflow[0], ptop=eff_inflow[1])\n",
    "ebwspd = utils.mag( ebwd[0], ebwd[1] )\n",
    "print \"Effective Bulk Wind Difference:\", ebwspd\n",
    "\n",
    "# Composite indices (e.g. STP, SCP, SHIP) can be calculated after determining the effective inflow layer.\n",
    "scp = params.scp(mupcl.bplus, effective_srh[0], ebwspd)\n",
    "stp_cin = params.stp_cin(mlpcl.bplus, effective_srh[0], ebwspd, mlpcl.lclhght, mlpcl.bminus)\n",
    "stp_fixed = params.stp_fixed(sfcpcl.bplus, sfcpcl.lclhght, srh1km[0], utils.comp2vec(sfc_6km_shear[0], sfc_6km_shear[1])[1])\n",
    "ship = params.ship(prof)\n",
    "print \"Supercell Composite Parameter:\", scp\n",
    "print \"Significant Tornado Parameter (w/CIN):\", stp_cin\n",
    "print \"Significant Tornado Parameter (fixed):\", stp_fixed\n",
    "print \"Significant Hail Parameter:\", ship"
   ]
  },
  {
   "cell_type": "markdown",
   "metadata": {},
   "source": [
    "### Putting it all together into one plot:"
   ]
  },
  {
   "cell_type": "markdown",
   "metadata": {},
   "source": [
    "To end the tutorial, let's combine all of the above indices talked about and the Skew-T plotting to summarize the 14060619.OAX sounding data file.  The indices will be plotted to the right of the sounding, and a hodograph will be added in the top right corner of the Skew-T.  We'll also denote the effective inflow layer by using horizontal blue lines.  Much of the code below will look similar to the previously plotted Skew-T diagram."
   ]
  },
  {
   "cell_type": "code",
   "execution_count": 12,
   "metadata": {
    "collapsed": false
   },
   "outputs": [
    {
     "ename": "NameError",
     "evalue": "name 'sfcpcl' is not defined",
     "output_type": "error",
     "traceback": [
      "\u001b[0;31m---------------------------------------------------------------------------\u001b[0m",
      "\u001b[0;31mNameError\u001b[0m                                 Traceback (most recent call last)",
      "\u001b[0;32m<ipython-input-12-5c651f922a84>\u001b[0m in \u001b[0;36m<module>\u001b[0;34m()\u001b[0m\n\u001b[0;32m----> 1\u001b[0;31m \u001b[0mindices\u001b[0m \u001b[0;34m=\u001b[0m \u001b[0;34m{\u001b[0m\u001b[0;34m'SBCAPE'\u001b[0m\u001b[0;34m:\u001b[0m \u001b[0;34m[\u001b[0m\u001b[0mint\u001b[0m\u001b[0;34m(\u001b[0m\u001b[0msfcpcl\u001b[0m\u001b[0;34m.\u001b[0m\u001b[0mbplus\u001b[0m\u001b[0;34m)\u001b[0m\u001b[0;34m,\u001b[0m \u001b[0;34m'J/kg'\u001b[0m\u001b[0;34m]\u001b[0m\u001b[0;34m,\u001b[0m           \u001b[0;34m'SBCIN'\u001b[0m\u001b[0;34m:\u001b[0m \u001b[0;34m[\u001b[0m\u001b[0mint\u001b[0m\u001b[0;34m(\u001b[0m\u001b[0msfcpcl\u001b[0m\u001b[0;34m.\u001b[0m\u001b[0mbminus\u001b[0m\u001b[0;34m)\u001b[0m\u001b[0;34m,\u001b[0m \u001b[0;34m'J/kg'\u001b[0m\u001b[0;34m]\u001b[0m\u001b[0;34m,\u001b[0m           \u001b[0;34m'SBLCL'\u001b[0m\u001b[0;34m:\u001b[0m \u001b[0;34m[\u001b[0m\u001b[0mint\u001b[0m\u001b[0;34m(\u001b[0m\u001b[0msfcpcl\u001b[0m\u001b[0;34m.\u001b[0m\u001b[0mlclhght\u001b[0m\u001b[0;34m)\u001b[0m\u001b[0;34m,\u001b[0m \u001b[0;34m'm AGL'\u001b[0m\u001b[0;34m]\u001b[0m\u001b[0;34m,\u001b[0m           \u001b[0;34m'SBLFC'\u001b[0m\u001b[0;34m:\u001b[0m \u001b[0;34m[\u001b[0m\u001b[0mint\u001b[0m\u001b[0;34m(\u001b[0m\u001b[0msfcpcl\u001b[0m\u001b[0;34m.\u001b[0m\u001b[0mlfchght\u001b[0m\u001b[0;34m)\u001b[0m\u001b[0;34m,\u001b[0m \u001b[0;34m'm AGL'\u001b[0m\u001b[0;34m]\u001b[0m\u001b[0;34m,\u001b[0m           \u001b[0;34m'SBEL'\u001b[0m\u001b[0;34m:\u001b[0m \u001b[0;34m[\u001b[0m\u001b[0mint\u001b[0m\u001b[0;34m(\u001b[0m\u001b[0msfcpcl\u001b[0m\u001b[0;34m.\u001b[0m\u001b[0melhght\u001b[0m\u001b[0;34m)\u001b[0m\u001b[0;34m,\u001b[0m \u001b[0;34m'm AGL'\u001b[0m\u001b[0;34m]\u001b[0m\u001b[0;34m,\u001b[0m           \u001b[0;34m'SBLI'\u001b[0m\u001b[0;34m:\u001b[0m \u001b[0;34m[\u001b[0m\u001b[0mint\u001b[0m\u001b[0;34m(\u001b[0m\u001b[0msfcpcl\u001b[0m\u001b[0;34m.\u001b[0m\u001b[0mli5\u001b[0m\u001b[0;34m)\u001b[0m\u001b[0;34m,\u001b[0m \u001b[0;34m'C'\u001b[0m\u001b[0;34m]\u001b[0m\u001b[0;34m,\u001b[0m           \u001b[0;34m'MLCAPE'\u001b[0m\u001b[0;34m:\u001b[0m \u001b[0;34m[\u001b[0m\u001b[0mint\u001b[0m\u001b[0;34m(\u001b[0m\u001b[0mmlpcl\u001b[0m\u001b[0;34m.\u001b[0m\u001b[0mbplus\u001b[0m\u001b[0;34m)\u001b[0m\u001b[0;34m,\u001b[0m \u001b[0;34m'J/kg'\u001b[0m\u001b[0;34m]\u001b[0m\u001b[0;34m,\u001b[0m           \u001b[0;34m'MLCIN'\u001b[0m\u001b[0;34m:\u001b[0m \u001b[0;34m[\u001b[0m\u001b[0mint\u001b[0m\u001b[0;34m(\u001b[0m\u001b[0mmlpcl\u001b[0m\u001b[0;34m.\u001b[0m\u001b[0mbminus\u001b[0m\u001b[0;34m)\u001b[0m\u001b[0;34m,\u001b[0m \u001b[0;34m'J/kg'\u001b[0m\u001b[0;34m]\u001b[0m\u001b[0;34m,\u001b[0m           \u001b[0;34m'MLLCL'\u001b[0m\u001b[0;34m:\u001b[0m \u001b[0;34m[\u001b[0m\u001b[0mint\u001b[0m\u001b[0;34m(\u001b[0m\u001b[0mmlpcl\u001b[0m\u001b[0;34m.\u001b[0m\u001b[0mlclhght\u001b[0m\u001b[0;34m)\u001b[0m\u001b[0;34m,\u001b[0m \u001b[0;34m'm AGL'\u001b[0m\u001b[0;34m]\u001b[0m\u001b[0;34m,\u001b[0m           \u001b[0;34m'MLLFC'\u001b[0m\u001b[0;34m:\u001b[0m \u001b[0;34m[\u001b[0m\u001b[0mint\u001b[0m\u001b[0;34m(\u001b[0m\u001b[0mmlpcl\u001b[0m\u001b[0;34m.\u001b[0m\u001b[0mlfchght\u001b[0m\u001b[0;34m)\u001b[0m\u001b[0;34m,\u001b[0m \u001b[0;34m'm AGL'\u001b[0m\u001b[0;34m]\u001b[0m\u001b[0;34m,\u001b[0m           \u001b[0;34m'MLEL'\u001b[0m\u001b[0;34m:\u001b[0m \u001b[0;34m[\u001b[0m\u001b[0mint\u001b[0m\u001b[0;34m(\u001b[0m\u001b[0mmlpcl\u001b[0m\u001b[0;34m.\u001b[0m\u001b[0melhght\u001b[0m\u001b[0;34m)\u001b[0m\u001b[0;34m,\u001b[0m \u001b[0;34m'm AGL'\u001b[0m\u001b[0;34m]\u001b[0m\u001b[0;34m,\u001b[0m           \u001b[0;34m'MLLI'\u001b[0m\u001b[0;34m:\u001b[0m \u001b[0;34m[\u001b[0m\u001b[0mint\u001b[0m\u001b[0;34m(\u001b[0m\u001b[0mmlpcl\u001b[0m\u001b[0;34m.\u001b[0m\u001b[0mli5\u001b[0m\u001b[0;34m)\u001b[0m\u001b[0;34m,\u001b[0m \u001b[0;34m'C'\u001b[0m\u001b[0;34m]\u001b[0m\u001b[0;34m,\u001b[0m           \u001b[0;34m'MUCAPE'\u001b[0m\u001b[0;34m:\u001b[0m \u001b[0;34m[\u001b[0m\u001b[0mint\u001b[0m\u001b[0;34m(\u001b[0m\u001b[0mmupcl\u001b[0m\u001b[0;34m.\u001b[0m\u001b[0mbplus\u001b[0m\u001b[0;34m)\u001b[0m\u001b[0;34m,\u001b[0m \u001b[0;34m'J/kg'\u001b[0m\u001b[0;34m]\u001b[0m\u001b[0;34m,\u001b[0m           \u001b[0;34m'MUCIN'\u001b[0m\u001b[0;34m:\u001b[0m \u001b[0;34m[\u001b[0m\u001b[0mint\u001b[0m\u001b[0;34m(\u001b[0m\u001b[0mmupcl\u001b[0m\u001b[0;34m.\u001b[0m\u001b[0mbminus\u001b[0m\u001b[0;34m)\u001b[0m\u001b[0;34m,\u001b[0m \u001b[0;34m'J/kg'\u001b[0m\u001b[0;34m]\u001b[0m\u001b[0;34m,\u001b[0m           \u001b[0;34m'MULCL'\u001b[0m\u001b[0;34m:\u001b[0m \u001b[0;34m[\u001b[0m\u001b[0mint\u001b[0m\u001b[0;34m(\u001b[0m\u001b[0mmupcl\u001b[0m\u001b[0;34m.\u001b[0m\u001b[0mlclhght\u001b[0m\u001b[0;34m)\u001b[0m\u001b[0;34m,\u001b[0m \u001b[0;34m'm AGL'\u001b[0m\u001b[0;34m]\u001b[0m\u001b[0;34m,\u001b[0m           \u001b[0;34m'MULFC'\u001b[0m\u001b[0;34m:\u001b[0m \u001b[0;34m[\u001b[0m\u001b[0mint\u001b[0m\u001b[0;34m(\u001b[0m\u001b[0mmupcl\u001b[0m\u001b[0;34m.\u001b[0m\u001b[0mlfchght\u001b[0m\u001b[0;34m)\u001b[0m\u001b[0;34m,\u001b[0m \u001b[0;34m'm AGL'\u001b[0m\u001b[0;34m]\u001b[0m\u001b[0;34m,\u001b[0m           \u001b[0;34m'MUEL'\u001b[0m\u001b[0;34m:\u001b[0m \u001b[0;34m[\u001b[0m\u001b[0mint\u001b[0m\u001b[0;34m(\u001b[0m\u001b[0mmupcl\u001b[0m\u001b[0;34m.\u001b[0m\u001b[0melhght\u001b[0m\u001b[0;34m)\u001b[0m\u001b[0;34m,\u001b[0m \u001b[0;34m'm AGL'\u001b[0m\u001b[0;34m]\u001b[0m\u001b[0;34m,\u001b[0m           \u001b[0;34m'MULI'\u001b[0m\u001b[0;34m:\u001b[0m \u001b[0;34m[\u001b[0m\u001b[0mint\u001b[0m\u001b[0;34m(\u001b[0m\u001b[0mmupcl\u001b[0m\u001b[0;34m.\u001b[0m\u001b[0mli5\u001b[0m\u001b[0;34m)\u001b[0m\u001b[0;34m,\u001b[0m \u001b[0;34m'C'\u001b[0m\u001b[0;34m]\u001b[0m\u001b[0;34m,\u001b[0m           \u001b[0;34m'0-1 km SRH'\u001b[0m\u001b[0;34m:\u001b[0m \u001b[0;34m[\u001b[0m\u001b[0mint\u001b[0m\u001b[0;34m(\u001b[0m\u001b[0msrh1km\u001b[0m\u001b[0;34m[\u001b[0m\u001b[0;36m0\u001b[0m\u001b[0;34m]\u001b[0m\u001b[0;34m)\u001b[0m\u001b[0;34m,\u001b[0m \u001b[0;34m'm2/s2'\u001b[0m\u001b[0;34m]\u001b[0m\u001b[0;34m,\u001b[0m           \u001b[0;34m'0-1 km Shear'\u001b[0m\u001b[0;34m:\u001b[0m \u001b[0;34m[\u001b[0m\u001b[0mint\u001b[0m\u001b[0;34m(\u001b[0m\u001b[0mutils\u001b[0m\u001b[0;34m.\u001b[0m\u001b[0mcomp2vec\u001b[0m\u001b[0;34m(\u001b[0m\u001b[0msfc_1km_shear\u001b[0m\u001b[0;34m[\u001b[0m\u001b[0;36m0\u001b[0m\u001b[0;34m]\u001b[0m\u001b[0;34m,\u001b[0m \u001b[0msfc_1km_shear\u001b[0m\u001b[0;34m[\u001b[0m\u001b[0;36m1\u001b[0m\u001b[0;34m]\u001b[0m\u001b[0;34m)\u001b[0m\u001b[0;34m[\u001b[0m\u001b[0;36m1\u001b[0m\u001b[0;34m]\u001b[0m\u001b[0;34m)\u001b[0m\u001b[0;34m,\u001b[0m \u001b[0;34m'kts'\u001b[0m\u001b[0;34m]\u001b[0m\u001b[0;34m,\u001b[0m           \u001b[0;34m'0-3 km SRH'\u001b[0m\u001b[0;34m:\u001b[0m \u001b[0;34m[\u001b[0m\u001b[0mint\u001b[0m\u001b[0;34m(\u001b[0m\u001b[0msrh3km\u001b[0m\u001b[0;34m[\u001b[0m\u001b[0;36m0\u001b[0m\u001b[0;34m]\u001b[0m\u001b[0;34m)\u001b[0m\u001b[0;34m,\u001b[0m \u001b[0;34m'm2/s2'\u001b[0m\u001b[0;34m]\u001b[0m\u001b[0;34m,\u001b[0m           \u001b[0;34m'Eff. SRH'\u001b[0m\u001b[0;34m:\u001b[0m \u001b[0;34m[\u001b[0m\u001b[0mint\u001b[0m\u001b[0;34m(\u001b[0m\u001b[0meffective_srh\u001b[0m\u001b[0;34m[\u001b[0m\u001b[0;36m0\u001b[0m\u001b[0;34m]\u001b[0m\u001b[0;34m)\u001b[0m\u001b[0;34m,\u001b[0m \u001b[0;34m'm2/s2'\u001b[0m\u001b[0;34m]\u001b[0m\u001b[0;34m,\u001b[0m           \u001b[0;34m'EBWD'\u001b[0m\u001b[0;34m:\u001b[0m \u001b[0;34m[\u001b[0m\u001b[0mint\u001b[0m\u001b[0;34m(\u001b[0m\u001b[0mebwspd\u001b[0m\u001b[0;34m)\u001b[0m\u001b[0;34m,\u001b[0m \u001b[0;34m'kts'\u001b[0m\u001b[0;34m]\u001b[0m\u001b[0;34m,\u001b[0m           \u001b[0;34m'PWV'\u001b[0m\u001b[0;34m:\u001b[0m \u001b[0;34m[\u001b[0m\u001b[0mround\u001b[0m\u001b[0;34m(\u001b[0m\u001b[0mparams\u001b[0m\u001b[0;34m.\u001b[0m\u001b[0mprecip_water\u001b[0m\u001b[0;34m(\u001b[0m\u001b[0mprof\u001b[0m\u001b[0;34m)\u001b[0m\u001b[0;34m,\u001b[0m \u001b[0;36m2\u001b[0m\u001b[0;34m)\u001b[0m\u001b[0;34m,\u001b[0m \u001b[0;34m'inch'\u001b[0m\u001b[0;34m]\u001b[0m\u001b[0;34m,\u001b[0m           \u001b[0;34m'K-index'\u001b[0m\u001b[0;34m:\u001b[0m \u001b[0;34m[\u001b[0m\u001b[0mint\u001b[0m\u001b[0;34m(\u001b[0m\u001b[0mparams\u001b[0m\u001b[0;34m.\u001b[0m\u001b[0mk_index\u001b[0m\u001b[0;34m(\u001b[0m\u001b[0mprof\u001b[0m\u001b[0;34m)\u001b[0m\u001b[0;34m)\u001b[0m\u001b[0;34m,\u001b[0m \u001b[0;34m''\u001b[0m\u001b[0;34m]\u001b[0m\u001b[0;34m,\u001b[0m           \u001b[0;34m'STP(fix)'\u001b[0m\u001b[0;34m:\u001b[0m \u001b[0;34m[\u001b[0m\u001b[0mround\u001b[0m\u001b[0;34m(\u001b[0m\u001b[0mstp_fixed\u001b[0m\u001b[0;34m,\u001b[0m \u001b[0;36m1\u001b[0m\u001b[0;34m)\u001b[0m\u001b[0;34m,\u001b[0m \u001b[0;34m''\u001b[0m\u001b[0;34m]\u001b[0m\u001b[0;34m,\u001b[0m           \u001b[0;34m'SHIP'\u001b[0m\u001b[0;34m:\u001b[0m \u001b[0;34m[\u001b[0m\u001b[0mround\u001b[0m\u001b[0;34m(\u001b[0m\u001b[0mship\u001b[0m\u001b[0;34m,\u001b[0m \u001b[0;36m1\u001b[0m\u001b[0;34m)\u001b[0m\u001b[0;34m,\u001b[0m \u001b[0;34m''\u001b[0m\u001b[0;34m]\u001b[0m\u001b[0;34m,\u001b[0m           \u001b[0;34m'SCP'\u001b[0m\u001b[0;34m:\u001b[0m \u001b[0;34m[\u001b[0m\u001b[0mround\u001b[0m\u001b[0;34m(\u001b[0m\u001b[0mscp\u001b[0m\u001b[0;34m,\u001b[0m \u001b[0;36m1\u001b[0m\u001b[0;34m)\u001b[0m\u001b[0;34m,\u001b[0m \u001b[0;34m''\u001b[0m\u001b[0;34m]\u001b[0m\u001b[0;34m,\u001b[0m           \u001b[0;34m'STP(cin)'\u001b[0m\u001b[0;34m:\u001b[0m \u001b[0;34m[\u001b[0m\u001b[0mround\u001b[0m\u001b[0;34m(\u001b[0m\u001b[0mstp_cin\u001b[0m\u001b[0;34m,\u001b[0m \u001b[0;36m1\u001b[0m\u001b[0;34m)\u001b[0m\u001b[0;34m,\u001b[0m \u001b[0;34m''\u001b[0m\u001b[0;34m]\u001b[0m\u001b[0;34m}\u001b[0m\u001b[0;34m\u001b[0m\u001b[0m\n\u001b[0m\u001b[1;32m      2\u001b[0m \u001b[0;34m\u001b[0m\u001b[0m\n\u001b[1;32m      3\u001b[0m \u001b[0;31m# Set the parcel trace to be plotted as the Most-Unstable parcel.\u001b[0m\u001b[0;34m\u001b[0m\u001b[0;34m\u001b[0m\u001b[0m\n\u001b[1;32m      4\u001b[0m \u001b[0mpcl\u001b[0m \u001b[0;34m=\u001b[0m \u001b[0mmupcl\u001b[0m\u001b[0;34m\u001b[0m\u001b[0m\n\u001b[1;32m      5\u001b[0m \u001b[0;34m\u001b[0m\u001b[0m\n",
      "\u001b[0;31mNameError\u001b[0m: name 'sfcpcl' is not defined"
     ]
    }
   ],
   "source": [
    "indices = {'SBCAPE': [int(sfcpcl.bplus), 'J/kg'],\\\n",
    "           'SBCIN': [int(sfcpcl.bminus), 'J/kg'],\\\n",
    "           'SBLCL': [int(sfcpcl.lclhght), 'm AGL'],\\\n",
    "           'SBLFC': [int(sfcpcl.lfchght), 'm AGL'],\\\n",
    "           'SBEL': [int(sfcpcl.elhght), 'm AGL'],\\\n",
    "           'SBLI': [int(sfcpcl.li5), 'C'],\\\n",
    "           'MLCAPE': [int(mlpcl.bplus), 'J/kg'],\\\n",
    "           'MLCIN': [int(mlpcl.bminus), 'J/kg'],\\\n",
    "           'MLLCL': [int(mlpcl.lclhght), 'm AGL'],\\\n",
    "           'MLLFC': [int(mlpcl.lfchght), 'm AGL'],\\\n",
    "           'MLEL': [int(mlpcl.elhght), 'm AGL'],\\\n",
    "           'MLLI': [int(mlpcl.li5), 'C'],\\\n",
    "           'MUCAPE': [int(mupcl.bplus), 'J/kg'],\\\n",
    "           'MUCIN': [int(mupcl.bminus), 'J/kg'],\\\n",
    "           'MULCL': [int(mupcl.lclhght), 'm AGL'],\\\n",
    "           'MULFC': [int(mupcl.lfchght), 'm AGL'],\\\n",
    "           'MUEL': [int(mupcl.elhght), 'm AGL'],\\\n",
    "           'MULI': [int(mupcl.li5), 'C'],\\\n",
    "           '0-1 km SRH': [int(srh1km[0]), 'm2/s2'],\\\n",
    "           '0-1 km Shear': [int(utils.comp2vec(sfc_1km_shear[0], sfc_1km_shear[1])[1]), 'kts'],\\\n",
    "           '0-3 km SRH': [int(srh3km[0]), 'm2/s2'],\\\n",
    "           'Eff. SRH': [int(effective_srh[0]), 'm2/s2'],\\\n",
    "           'EBWD': [int(ebwspd), 'kts'],\\\n",
    "           'PWV': [round(params.precip_water(prof), 2), 'inch'],\\\n",
    "           'K-index': [int(params.k_index(prof)), ''],\\\n",
    "           'STP(fix)': [round(stp_fixed, 1), ''],\\\n",
    "           'SHIP': [round(ship, 1), ''],\\\n",
    "           'SCP': [round(scp, 1), ''],\\\n",
    "           'STP(cin)': [round(stp_cin, 1), '']}\n",
    "\n",
    "# Set the parcel trace to be plotted as the Most-Unstable parcel.\n",
    "pcl = mupcl\n",
    "\n",
    "# Create a new figure. The dimensions here give a good aspect ratio\n",
    "fig = plt.figure(figsize=(6.5875, 6.2125))\n",
    "ax = fig.add_subplot(111, projection='skewx')\n",
    "ax.grid(True)\n",
    "\n",
    "pmax = 1000\n",
    "pmin = 10\n",
    "dp = -10\n",
    "presvals = np.arange(int(pmax), int(pmin)+dp, dp)\n",
    "\n",
    "# plot the moist-adiabats\n",
    "for t in np.arange(-10,45,5):\n",
    "    tw = []\n",
    "    for p in presvals:\n",
    "        tw.append(thermo.wetlift(1000., t, p))\n",
    "    ax.semilogy(tw, presvals, 'k-', alpha=.2)\n",
    "\n",
    "def thetas(theta, presvals):\n",
    "    return ((theta + thermo.ZEROCNK) / (np.power((1000. / presvals),thermo.ROCP))) - thermo.ZEROCNK\n",
    "\n",
    "# plot the dry adiabats\n",
    "for t in np.arange(-50,110,10):\n",
    "    ax.semilogy(thetas(t, presvals), presvals, 'r-', alpha=.2)\n",
    "\n",
    "plt.title(' OAX 140616/1900 (Observed)', fontsize=12, loc='left')\n",
    "# Plot the data using normal plotting functions, in this case using\n",
    "# log scaling in Y, as dicatated by the typical meteorological plot\n",
    "ax.semilogy(prof.tmpc, prof.pres, 'r', lw=2) # Plot the temperature profile\n",
    "ax.semilogy(prof.wetbulb, prof.pres, 'c-') # Plot the wetbulb profile\n",
    "ax.semilogy(prof.dwpc, prof.pres, 'g', lw=2) # plot the dewpoint profile\n",
    "ax.semilogy(pcl.ttrace, pcl.ptrace, 'k-.', lw=2) # plot the parcel trace \n",
    "\n",
    "# An example of a slanted line at constant X\n",
    "l = ax.axvline(0, color='b', linestyle='--')\n",
    "l = ax.axvline(-20, color='b', linestyle='--')\n",
    "\n",
    "# Plot the effective inflow layer using blue horizontal lines\n",
    "ax.axhline(eff_inflow[0], color='b')\n",
    "ax.axhline(eff_inflow[1], color='b')\n",
    "\n",
    "#plt.barbs(10*np.ones(len(prof.pres)), prof.pres, prof.u, prof.v)\n",
    "# Disables the log-formatting that comes with semilogy\n",
    "ax.yaxis.set_major_formatter(plt.ScalarFormatter())\n",
    "ax.set_yticks(np.linspace(100,1000,10))\n",
    "ax.set_ylim(1050,100)\n",
    "ax.xaxis.set_major_locator(plt.MultipleLocator(10))\n",
    "ax.set_xlim(-50,50)\n",
    "\n",
    "# List the indices within the indices dictionary on the side of the plot.\n",
    "string = ''\n",
    "for key in np.sort(indices.keys()):\n",
    "    string = string + key + ': ' + str(indices[key][0]) + ' ' + indices[key][1] + '\\n'\n",
    "plt.text(1.02, 1, string, verticalalignment='top', transform=plt.gca().transAxes)\n",
    "\n",
    "# Draw the hodograph on the Skew-T.\n",
    "# TAS 2015-4-16: hodograph doesn't plot for some reason ...\n",
    "ax2 = plt.axes([.625,.625,.25,.25])\n",
    "below_12km = np.where(interp.to_agl(prof, prof.hght) < 12000)[0]\n",
    "u_prof = prof.u[below_12km]\n",
    "v_prof = prof.v[below_12km]\n",
    "ax2.plot(u_prof[~u_prof.mask], v_prof[~u_prof.mask], 'k-', lw=2)\n",
    "ax2.get_xaxis().set_visible(False)\n",
    "ax2.get_yaxis().set_visible(False)\n",
    "for i in range(10,90,10):\n",
    "    # Draw the range rings around the hodograph at 10 knot intervals.\n",
    "    circle = plt.Circle((0,0),i,color='k',alpha=.3, fill=False)\n",
    "    ax2.add_artist(circle)\n",
    "ax2.plot(srwind[0], srwind[1], 'ro') # Plot Bunker's Storm motion right mover as a red dot\n",
    "ax2.plot(srwind[2], srwind[3], 'bo') # Plot Bunker's Storm motion left mover as a blue dot\n",
    "\n",
    "ax2.set_xlim(-60,60)\n",
    "ax2.set_ylim(-60,60)\n",
    "ax2.axhline(y=0, color='k')\n",
    "ax2.axvline(x=0, color='k')\n",
    "plt.show()"
   ]
  },
  {
   "cell_type": "markdown",
   "metadata": {},
   "source": [
    "### List of functions in each module:"
   ]
  },
  {
   "cell_type": "markdown",
   "metadata": {},
   "source": [
    "This tutorial cannot cover all of the functions in SHARPpy.  Below is a list of all of the functions accessible through SHARPTAB.  In order to learn more about the function in this IPython Notebook, open up a new \"In[]:\" field within the notebook and type in the path to the function (for example):\n",
    "\n",
    "    params.dcape()\n",
    "   \n",
    "Moving your cursor into the () and hitting \"Shift-Tab\" on your keyboard will make documentation appear below the cursor.  Clicking on the \"+\" will open up a panel describing the function, the function's arguments, its output values, and any references to meteorological literature the function was based on.\n",
    "\n",
    "Running the code below will print out all of the functions and objects included within each SHARPpy module."
   ]
  },
  {
   "cell_type": "code",
   "execution_count": 21,
   "metadata": {
    "collapsed": false
   },
   "outputs": [
    {
     "name": "stdout",
     "output_type": "stream",
     "text": [
      "Functions within params.py:\n",
      "\tparams.DefineParcel()\n",
      "\tparams.Parcel()\n",
      "\tparams.inferred_temp_advection()\n",
      "\tparams.k_index()\n",
      "\tparams.t_totals()\n",
      "\tparams.c_totals()\n",
      "\tparams.v_totals()\n",
      "\tparams.precip_water()\n",
      "\tparams.temp_lvl()\n",
      "\tparams.max_temp()\n",
      "\tparams.mean_mixratio()\n",
      "\tparams.mean_theta()\n",
      "\tparams.mean_thetae()\n",
      "\tparams.mean_relh()\n",
      "\tparams.lapse_rate()\n",
      "\tparams.most_unstable_level()\n",
      "\tparams.parcelx()\n",
      "\tparams.bulk_rich()\n",
      "\tparams.bunkers_storm_motion()\n",
      "\tparams.effective_inflow_layer()\n",
      "\tparams.convective_temp()\n",
      "\tparams.esp()\n",
      "\tparams.pbl_top()\n",
      "\tparams.precip_eff()\n",
      "\tparams.dcape()\n",
      "\tparams.sig_severe()\n",
      "\tparams.dgz()\n",
      "\tparams.ship()\n",
      "\tparams.stp_cin()\n",
      "\tparams.stp_fixed()\n",
      "\tparams.scp()\n",
      "\tparams.mmp()\n",
      "\tparams.wndg()\n",
      "\tparams.sherb()\n",
      "\tparams.tei()\n",
      "\tparams.cape()\n",
      "\tparams.mburst()\n",
      "\tparams.dcp()\n",
      "\tparams.ehi()\n",
      "\tparams.sweat()\n",
      "\tparams.hgz()\n",
      "\tparams.lhp()\n",
      "\n",
      "Functions within winds.py:\n",
      "\twinds.mean_wind()\n",
      "\twinds.mean_wind_npw()\n",
      "\twinds.mean_wind_old()\n",
      "\twinds.mean_wind_npw_old()\n",
      "\twinds.sr_wind()\n",
      "\twinds.sr_wind_npw()\n",
      "\twinds.wind_shear()\n",
      "\twinds.helicity()\n",
      "\twinds.max_wind()\n",
      "\twinds.non_parcel_bunkers_motion()\n",
      "\twinds.corfidi_mcs_motion()\n",
      "\twinds.mbe_vectors()\n",
      "\twinds.non_parcel_bunkers_motion_experimental()\n",
      "\twinds.critical_angle()\n",
      "\n",
      "Functions within thermo.py:\n",
      "\tthermo.drylift()\n",
      "\tthermo.thalvl()\n",
      "\tthermo.lcltemp()\n",
      "\tthermo.theta()\n",
      "\tthermo.wobf()\n",
      "\tthermo.satlift()\n",
      "\tthermo.wetlift()\n",
      "\tthermo.lifted()\n",
      "\tthermo.vappres()\n",
      "\tthermo.mixratio()\n",
      "\tthermo.temp_at_mixrat()\n",
      "\tthermo.wetbulb()\n",
      "\tthermo.thetaw()\n",
      "\tthermo.thetae()\n",
      "\tthermo.virtemp()\n",
      "\tthermo.relh()\n",
      "\tthermo.ftoc()\n",
      "\tthermo.ctof()\n",
      "\tthermo.ctok()\n",
      "\tthermo.ktoc()\n",
      "\tthermo.ftok()\n",
      "\tthermo.ktof()\n",
      "\n",
      "Functions within interp.py:\n",
      "\tinterp.pres()\n",
      "\tinterp.hght()\n",
      "\tinterp.temp()\n",
      "\tinterp.dwpt()\n",
      "\tinterp.vtmp()\n",
      "\tinterp.components()\n",
      "\tinterp.vec()\n",
      "\tinterp.to_agl()\n",
      "\tinterp.to_msl()\n",
      "\n",
      "Functions within utils.py:\n",
      "\tutils.INT2STR()\n",
      "\tutils.FLOAT2STR()\n",
      "\tutils.MS2KTS()\n",
      "\tutils.KTS2MS()\n",
      "\tutils.MS2MPH()\n",
      "\tutils.MPH2MS()\n",
      "\tutils.MPH2KTS()\n",
      "\tutils.KTS2MPH()\n",
      "\tutils.M2FT()\n",
      "\tutils.FT2M()\n",
      "\tutils.vec2comp()\n",
      "\tutils.comp2vec()\n",
      "\tutils.mag()\n",
      "\tutils.QC()\n"
     ]
    }
   ],
   "source": [
    "print \"Functions within params.py:\"\n",
    "for key in params.__all__:\n",
    "    print \"\\tparams.\" + key + \"()\"\n",
    "print \"\\nFunctions within winds.py:\"\n",
    "for key in winds.__all__:\n",
    "    print \"\\twinds.\" + key + \"()\"\n",
    "print \"\\nFunctions within thermo.py:\"\n",
    "for key in thermo.__all__:\n",
    "    print \"\\tthermo.\" + key + \"()\"\n",
    "print \"\\nFunctions within interp.py:\"\n",
    "for key in interp.__all__:\n",
    "    print \"\\tinterp.\" + key + \"()\"\n",
    "print \"\\nFunctions within utils.py:\"\n",
    "for key in utils.__all__:\n",
    "    print \"\\tutils.\" + key + \"()\""
   ]
  },
  {
   "cell_type": "code",
   "execution_count": null,
   "metadata": {
    "collapsed": false
   },
   "outputs": [],
   "source": []
  },
  {
   "cell_type": "code",
   "execution_count": null,
   "metadata": {
    "collapsed": true
   },
   "outputs": [],
   "source": []
  }
 ],
 "metadata": {
  "hide_input": false,
  "kernelspec": {
   "display_name": "Python 2",
   "language": "python",
   "name": "python2"
  },
  "language_info": {
   "codemirror_mode": {
    "name": "ipython",
    "version": 2
   },
   "file_extension": ".py",
   "mimetype": "text/x-python",
   "name": "python",
   "nbconvert_exporter": "python",
   "pygments_lexer": "ipython2",
   "version": "2.7.11"
  }
 },
 "nbformat": 4,
 "nbformat_minor": 0
}
